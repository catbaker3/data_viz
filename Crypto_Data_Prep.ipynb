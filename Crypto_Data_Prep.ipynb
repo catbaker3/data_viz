{
 "cells": [
  {
   "cell_type": "code",
   "execution_count": 22,
   "metadata": {},
   "outputs": [],
   "source": [
    "# Import modules\n",
    "import pandas as pd\n",
    "from datetime import time\n",
    "from datetime import datetime"
   ]
  },
  {
   "cell_type": "code",
   "execution_count": 3,
   "metadata": {},
   "outputs": [],
   "source": [
    "# Import data\n",
    "bitcoin = pd.read_csv('bitcoin.csv')\n",
    "litecoin = pd.read_csv('litecoin.csv')\n",
    "ethereum = pd.read_csv('ethereum.csv')\n",
    "zcash = pd.read_csv('zcash.csv')"
   ]
  },
  {
   "cell_type": "code",
   "execution_count": 4,
   "metadata": {},
   "outputs": [],
   "source": [
    "# Drop the *USD ending from each cryptocurrency symbol\n",
    "bitcoin['Symbol'] = bitcoin.Symbol.replace(\"BTCUSD\", \"BTC\")\n",
    "litecoin['Symbol'] = litecoin.Symbol.replace(\"LTCUSD\", \"LTC\")\n",
    "ethereum['Symbol'] = ethereum.Symbol.replace(\"ETHUSD\", \"ETH\")\n",
    "zcash['Symbol'] = zcash.Symbol.replace(\"ZECUSD\", \"ZEC\")"
   ]
  },
  {
   "cell_type": "code",
   "execution_count": 5,
   "metadata": {},
   "outputs": [],
   "source": [
    "# Combine the four cryptocurrencies into one dataframe\n",
    "coins = [bitcoin, litecoin, ethereum, zcash]\n",
    "all_crypto = pd.concat(coins)"
   ]
  },
  {
   "cell_type": "code",
   "execution_count": 7,
   "metadata": {},
   "outputs": [],
   "source": [
    "all_crypto = all_crypto[['Date', 'Symbol', 'Open', 'High', 'Low', 'Close', 'Volume']].copy()"
   ]
  },
  {
   "cell_type": "code",
   "execution_count": 25,
   "metadata": {},
   "outputs": [
    {
     "data": {
      "text/html": [
       "<div>\n",
       "<style scoped>\n",
       "    .dataframe tbody tr th:only-of-type {\n",
       "        vertical-align: middle;\n",
       "    }\n",
       "\n",
       "    .dataframe tbody tr th {\n",
       "        vertical-align: top;\n",
       "    }\n",
       "\n",
       "    .dataframe thead th {\n",
       "        text-align: right;\n",
       "    }\n",
       "</style>\n",
       "<table border=\"1\" class=\"dataframe\">\n",
       "  <thead>\n",
       "    <tr style=\"text-align: right;\">\n",
       "      <th></th>\n",
       "      <th>Date</th>\n",
       "      <th>Symbol</th>\n",
       "      <th>Open</th>\n",
       "      <th>High</th>\n",
       "      <th>Low</th>\n",
       "      <th>Close</th>\n",
       "      <th>Volume</th>\n",
       "    </tr>\n",
       "  </thead>\n",
       "  <tbody>\n",
       "    <tr>\n",
       "      <th>0</th>\n",
       "      <td>2021-03-14 04:00:00</td>\n",
       "      <td>BTC</td>\n",
       "      <td>61354.75</td>\n",
       "      <td>61500.82</td>\n",
       "      <td>58750.00</td>\n",
       "      <td>59314.81</td>\n",
       "      <td>896.762296</td>\n",
       "    </tr>\n",
       "    <tr>\n",
       "      <th>1</th>\n",
       "      <td>2021-03-13 04:00:00</td>\n",
       "      <td>BTC</td>\n",
       "      <td>56705.84</td>\n",
       "      <td>61785.00</td>\n",
       "      <td>56284.51</td>\n",
       "      <td>61354.75</td>\n",
       "      <td>2135.307447</td>\n",
       "    </tr>\n",
       "    <tr>\n",
       "      <th>2</th>\n",
       "      <td>2021-03-12 04:00:00</td>\n",
       "      <td>BTC</td>\n",
       "      <td>57111.63</td>\n",
       "      <td>57959.22</td>\n",
       "      <td>55050.00</td>\n",
       "      <td>56705.84</td>\n",
       "      <td>1595.580158</td>\n",
       "    </tr>\n",
       "    <tr>\n",
       "      <th>3</th>\n",
       "      <td>2021-03-11 04:00:00</td>\n",
       "      <td>BTC</td>\n",
       "      <td>55971.68</td>\n",
       "      <td>58120.00</td>\n",
       "      <td>54281.74</td>\n",
       "      <td>57111.63</td>\n",
       "      <td>1776.090419</td>\n",
       "    </tr>\n",
       "    <tr>\n",
       "      <th>4</th>\n",
       "      <td>2021-03-10 04:00:00</td>\n",
       "      <td>BTC</td>\n",
       "      <td>53466.19</td>\n",
       "      <td>57400.00</td>\n",
       "      <td>53049.00</td>\n",
       "      <td>55971.68</td>\n",
       "      <td>2062.285586</td>\n",
       "    </tr>\n",
       "  </tbody>\n",
       "</table>\n",
       "</div>"
      ],
      "text/plain": [
       "                 Date Symbol      Open      High       Low     Close  \\\n",
       "0 2021-03-14 04:00:00    BTC  61354.75  61500.82  58750.00  59314.81   \n",
       "1 2021-03-13 04:00:00    BTC  56705.84  61785.00  56284.51  61354.75   \n",
       "2 2021-03-12 04:00:00    BTC  57111.63  57959.22  55050.00  56705.84   \n",
       "3 2021-03-11 04:00:00    BTC  55971.68  58120.00  54281.74  57111.63   \n",
       "4 2021-03-10 04:00:00    BTC  53466.19  57400.00  53049.00  55971.68   \n",
       "\n",
       "        Volume  \n",
       "0   896.762296  \n",
       "1  2135.307447  \n",
       "2  1595.580158  \n",
       "3  1776.090419  \n",
       "4  2062.285586  "
      ]
     },
     "execution_count": 25,
     "metadata": {},
     "output_type": "execute_result"
    }
   ],
   "source": [
    "all_crypto.head()"
   ]
  },
  {
   "cell_type": "code",
   "execution_count": 23,
   "metadata": {},
   "outputs": [],
   "source": [
    "all_crypto['Date'] = pd.to_datetime(all_crypto['Date'], infer_datetime_format=True)"
   ]
  },
  {
   "cell_type": "code",
   "execution_count": 35,
   "metadata": {},
   "outputs": [],
   "source": [
    "# Create a month column\n",
    "all_crypto['Month'] = pd.DatetimeIndex(all_crypto['Date']).month"
   ]
  },
  {
   "cell_type": "code",
   "execution_count": 37,
   "metadata": {},
   "outputs": [],
   "source": [
    "# Create a year column\n",
    "all_crypto['Year'] = pd.DatetimeIndex(all_crypto['Date']).year"
   ]
  },
  {
   "cell_type": "code",
   "execution_count": null,
   "metadata": {},
   "outputs": [],
   "source": [
    "# C"
   ]
  },
  {
   "cell_type": "code",
   "execution_count": 38,
   "metadata": {},
   "outputs": [
    {
     "data": {
      "text/html": [
       "<div>\n",
       "<style scoped>\n",
       "    .dataframe tbody tr th:only-of-type {\n",
       "        vertical-align: middle;\n",
       "    }\n",
       "\n",
       "    .dataframe tbody tr th {\n",
       "        vertical-align: top;\n",
       "    }\n",
       "\n",
       "    .dataframe thead th {\n",
       "        text-align: right;\n",
       "    }\n",
       "</style>\n",
       "<table border=\"1\" class=\"dataframe\">\n",
       "  <thead>\n",
       "    <tr style=\"text-align: right;\">\n",
       "      <th></th>\n",
       "      <th>Date</th>\n",
       "      <th>Symbol</th>\n",
       "      <th>Open</th>\n",
       "      <th>High</th>\n",
       "      <th>Low</th>\n",
       "      <th>Close</th>\n",
       "      <th>Volume</th>\n",
       "      <th>Month</th>\n",
       "      <th>Year</th>\n",
       "    </tr>\n",
       "  </thead>\n",
       "  <tbody>\n",
       "    <tr>\n",
       "      <th>0</th>\n",
       "      <td>2021-03-14 04:00:00</td>\n",
       "      <td>BTC</td>\n",
       "      <td>61354.75</td>\n",
       "      <td>61500.82</td>\n",
       "      <td>58750.00</td>\n",
       "      <td>59314.81</td>\n",
       "      <td>896.762296</td>\n",
       "      <td>3</td>\n",
       "      <td>2021</td>\n",
       "    </tr>\n",
       "    <tr>\n",
       "      <th>1</th>\n",
       "      <td>2021-03-13 04:00:00</td>\n",
       "      <td>BTC</td>\n",
       "      <td>56705.84</td>\n",
       "      <td>61785.00</td>\n",
       "      <td>56284.51</td>\n",
       "      <td>61354.75</td>\n",
       "      <td>2135.307447</td>\n",
       "      <td>3</td>\n",
       "      <td>2021</td>\n",
       "    </tr>\n",
       "    <tr>\n",
       "      <th>2</th>\n",
       "      <td>2021-03-12 04:00:00</td>\n",
       "      <td>BTC</td>\n",
       "      <td>57111.63</td>\n",
       "      <td>57959.22</td>\n",
       "      <td>55050.00</td>\n",
       "      <td>56705.84</td>\n",
       "      <td>1595.580158</td>\n",
       "      <td>3</td>\n",
       "      <td>2021</td>\n",
       "    </tr>\n",
       "    <tr>\n",
       "      <th>3</th>\n",
       "      <td>2021-03-11 04:00:00</td>\n",
       "      <td>BTC</td>\n",
       "      <td>55971.68</td>\n",
       "      <td>58120.00</td>\n",
       "      <td>54281.74</td>\n",
       "      <td>57111.63</td>\n",
       "      <td>1776.090419</td>\n",
       "      <td>3</td>\n",
       "      <td>2021</td>\n",
       "    </tr>\n",
       "    <tr>\n",
       "      <th>4</th>\n",
       "      <td>2021-03-10 04:00:00</td>\n",
       "      <td>BTC</td>\n",
       "      <td>53466.19</td>\n",
       "      <td>57400.00</td>\n",
       "      <td>53049.00</td>\n",
       "      <td>55971.68</td>\n",
       "      <td>2062.285586</td>\n",
       "      <td>3</td>\n",
       "      <td>2021</td>\n",
       "    </tr>\n",
       "  </tbody>\n",
       "</table>\n",
       "</div>"
      ],
      "text/plain": [
       "                 Date Symbol      Open      High       Low     Close  \\\n",
       "0 2021-03-14 04:00:00    BTC  61354.75  61500.82  58750.00  59314.81   \n",
       "1 2021-03-13 04:00:00    BTC  56705.84  61785.00  56284.51  61354.75   \n",
       "2 2021-03-12 04:00:00    BTC  57111.63  57959.22  55050.00  56705.84   \n",
       "3 2021-03-11 04:00:00    BTC  55971.68  58120.00  54281.74  57111.63   \n",
       "4 2021-03-10 04:00:00    BTC  53466.19  57400.00  53049.00  55971.68   \n",
       "\n",
       "        Volume  Month  Year  \n",
       "0   896.762296      3  2021  \n",
       "1  2135.307447      3  2021  \n",
       "2  1595.580158      3  2021  \n",
       "3  1776.090419      3  2021  \n",
       "4  2062.285586      3  2021  "
      ]
     },
     "execution_count": 38,
     "metadata": {},
     "output_type": "execute_result"
    }
   ],
   "source": [
    "all_crypto.head()"
   ]
  },
  {
   "cell_type": "code",
   "execution_count": null,
   "metadata": {},
   "outputs": [],
   "source": []
  },
  {
   "cell_type": "code",
   "execution_count": 7,
   "metadata": {},
   "outputs": [],
   "source": [
    "bitcoin.to_csv('bitcoin.csv')\n",
    "litecoin.to_csv('litecoin.csv')\n",
    "ethereum.to_csv('ethereum.csv')\n",
    "zcash.to_csv('zcash.csv')\n",
    "\n",
    "all_crypto.to_csv('all_crypto.csv')"
   ]
  },
  {
   "cell_type": "code",
   "execution_count": null,
   "metadata": {},
   "outputs": [],
   "source": []
  }
 ],
 "metadata": {
  "kernelspec": {
   "display_name": "Python 3",
   "language": "python",
   "name": "python3"
  },
  "language_info": {
   "codemirror_mode": {
    "name": "ipython",
    "version": 3
   },
   "file_extension": ".py",
   "mimetype": "text/x-python",
   "name": "python",
   "nbconvert_exporter": "python",
   "pygments_lexer": "ipython3",
   "version": "3.8.3"
  }
 },
 "nbformat": 4,
 "nbformat_minor": 4
}
