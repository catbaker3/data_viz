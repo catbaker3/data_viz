{
 "cells": [
  {
   "cell_type": "code",
   "execution_count": 2,
   "metadata": {},
   "outputs": [],
   "source": [
    "# Import modules\n",
    "import pandas as pd"
   ]
  },
  {
   "cell_type": "code",
   "execution_count": 3,
   "metadata": {},
   "outputs": [],
   "source": [
    "# Import data\n",
    "bitcoin = pd.read_csv('bitcoin.csv')\n",
    "litecoin = pd.read_csv('litecoin.csv')\n",
    "ethereum = pd.read_csv('ethereum.csv')\n",
    "zcash = pd.read_csv('zcash.csv')"
   ]
  },
  {
   "cell_type": "code",
   "execution_count": 16,
   "metadata": {},
   "outputs": [],
   "source": [
    "# Drop the *USD ending from each cryptocurrency symbol\n",
    "bitcoin['Symbol'] = bitcoin.Symbol.replace(\"BTCUSD\", \"BTC\")\n",
    "litecoin['Symbol'] = litecoin.Symbol.replace(\"LTCUSD\", \"LTC\")\n",
    "ethereum['Symbol'] = ethereum.Symbol.replace(\"ETHUSD\", \"ETH\")\n",
    "zcash['Symbol'] = zcash.Symbol.replace(\"ZECUSD\", \"ZEC\")"
   ]
  },
  {
   "cell_type": "code",
   "execution_count": 5,
   "metadata": {},
   "outputs": [],
   "source": [
    "# Combine the four cryptocurrencies into one dataframe\n",
    "coins = [bitcoin, litecoin, ethereum, zcash]\n",
    "all_crypto = pd.concat(coins)"
   ]
  },
  {
   "cell_type": "code",
   "execution_count": 7,
   "metadata": {},
   "outputs": [],
   "source": [
    "bitcoin.to_csv('bitcoin.csv')\n",
    "litecoin.to_csv('litecoin.csv')\n",
    "ethereum.to_csv('ethereum.csv')\n",
    "zcash.to_csv('zcash.csv')\n",
    "\n",
    "all_crypto.to_csv('all_crypto.csv')"
   ]
  },
  {
   "cell_type": "code",
   "execution_count": null,
   "metadata": {},
   "outputs": [],
   "source": []
  }
 ],
 "metadata": {
  "kernelspec": {
   "display_name": "Python 3",
   "language": "python",
   "name": "python3"
  },
  "language_info": {
   "codemirror_mode": {
    "name": "ipython",
    "version": 3
   },
   "file_extension": ".py",
   "mimetype": "text/x-python",
   "name": "python",
   "nbconvert_exporter": "python",
   "pygments_lexer": "ipython3",
   "version": "3.8.3"
  }
 },
 "nbformat": 4,
 "nbformat_minor": 4
}
